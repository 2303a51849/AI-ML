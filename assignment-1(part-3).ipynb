{
  "nbformat": 4,
  "nbformat_minor": 0,
  "metadata": {
    "colab": {
      "provenance": [],
      "authorship_tag": "ABX9TyPQpnvmfOlMDApPy29D4G7L",
      "include_colab_link": true
    },
    "kernelspec": {
      "name": "python3",
      "display_name": "Python 3"
    },
    "language_info": {
      "name": "python"
    }
  },
  "cells": [
    {
      "cell_type": "markdown",
      "metadata": {
        "id": "view-in-github",
        "colab_type": "text"
      },
      "source": [
        "<a href=\"https://colab.research.google.com/github/2303a51849/AI-ML/blob/main/assignment-1(part-3).ipynb\" target=\"_parent\"><img src=\"https://colab.research.google.com/assets/colab-badge.svg\" alt=\"Open In Colab\"/></a>"
      ]
    },
    {
      "cell_type": "code",
      "execution_count": null,
      "metadata": {
        "id": "VticfnjcYftP"
      },
      "outputs": [],
      "source": [
        "\n",
        "#1. Generate a Data set for Health Care\n",
        "import matplotlib.pyplot as plt\n",
        "people = [\"kiran\", \"arun\", \"vijay\", \"varun\"]\n",
        "age = [25, 30, 35, 40]\n",
        "height = [145, 151, 165, 173]\n",
        "weight = [45, 55, 65, 75]"
      ]
    },
    {
      "cell_type": "code",
      "source": [
        "\n",
        "#2. Generating a Bar Graph using the above data\n",
        "people = [\"kiran\", \"arun\", \"vijay\", \"varun\"]\n",
        "age = [25, 30, 35, 40]\n",
        "height = [145, 151, 165, 173]\n",
        "weight = [45, 55, 65, 75]\n",
        "import matplotlib.pyplot as plt\n",
        "plt.bar(people, height, color= 'Blue')\n",
        "plt.xlabel(\"people\")\n",
        "plt.ylabel(\"Height (cm)\")\n",
        "plt.title(\"Height of Individuals\")\n",
        "plt.show()\n",
        "plt.bar(people, weight, color=\"red\")\n",
        "plt.xlabel(\"people\")\n",
        "plt.ylabel(\"Weight (kg)\")\n",
        "plt.title(\"Weight of Individuals\")\n",
        "plt.show()\n",
        "plt.bar(people, age, color=\"green\")\n",
        "plt.xlabel(\"people\")\n",
        "plt.ylabel(\"age\")\n",
        "plt.title(\"People and their Age\")\n",
        "plt.show()\n",
        ""
      ],
      "metadata": {
        "id": "GeagdscFYg4T"
      },
      "execution_count": null,
      "outputs": []
    },
    {
      "cell_type": "code",
      "source": [
        "\n",
        "# Generating a Scatter Plot using the above data\n",
        "people = [\"kiran\", \"arun\", \"vijay\", \"varun\"]\n",
        "age = [25, 30, 35, 40]\n",
        "height = [145, 151, 165, 173]\n",
        "weight = [45, 55, 65, 75]\n",
        "import matplotlib.pyplot as plt\n",
        "plt.scatter(age, height, c=\"red\")\n",
        "plt.xlabel(\"age\")\n",
        "plt.ylabel(\"Height (cm)\")\n",
        "plt.title(\"Age vs Height\")\n",
        "plt.show()\n",
        "plt.scatter(age, weight, c=\"blue\")\n",
        "plt.xlabel(\"age\")\n",
        "plt.ylabel(\"weight\")\n",
        "plt.title(\"Age vs Weight\")\n",
        "plt.show()\n",
        ""
      ],
      "metadata": {
        "id": "Jf2_jh40YkoS"
      },
      "execution_count": null,
      "outputs": []
    },
    {
      "cell_type": "code",
      "source": [
        "\n",
        "#Implementing histogram.\n",
        "people = [\"kiran\", \"arun\", \"vijay\", \"varun\"]\n",
        "age = [25, 30, 35, 40]\n",
        "height = [145, 151, 165, 173]\n",
        "weight = [45, 55, 65, 75]\n",
        "import matplotlib.pyplot as plt\n",
        "plt.figure(figsize=(7, 5))\n",
        "plt.hist(age, edgecolor=\"red\", color=\"blue\", alpha=0.75, bins=4)\n",
        "plt.xlabel(\"age\")\n",
        "plt.ylabel(\"frequency\")\n",
        "plt.title(\"Histogram of Age\")\n",
        "plt.show()\n",
        "plt.figure(figsize=(7, 5))\n",
        "plt.hist(height, bins=4, edgecolor=\"blue\", color=\"red\",  alpha=0.75)\n",
        "plt.xlabel(\"height\")\n",
        "plt.ylabel(\"frequency\")\n",
        "plt.title(\"Histogram of height\")\n",
        "plt.show()\n",
        "plt.figure(figsize=(7, 5))\n",
        "plt.hist(weight, bins=4, edgecolor=\"red\", color=\"green\",  alpha=0.75)\n",
        "plt.xlabel(\"weight\")\n",
        "plt.ylabel(\"frequency\")\n",
        "plt.title(\"Histogram of weight\")\n",
        "plt.show()"
      ],
      "metadata": {
        "id": "J79-XEoYYwD6"
      },
      "execution_count": null,
      "outputs": []
    }
  ]
}