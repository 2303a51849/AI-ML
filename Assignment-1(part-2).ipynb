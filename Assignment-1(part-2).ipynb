{
  "nbformat": 4,
  "nbformat_minor": 0,
  "metadata": {
    "colab": {
      "provenance": [],
      "authorship_tag": "ABX9TyPKkogDoBTV9jwwdfDhND3u",
      "include_colab_link": true
    },
    "kernelspec": {
      "name": "python3",
      "display_name": "Python 3"
    },
    "language_info": {
      "name": "python"
    }
  },
  "cells": [
    {
      "cell_type": "markdown",
      "metadata": {
        "id": "view-in-github",
        "colab_type": "text"
      },
      "source": [
        "<a href=\"https://colab.research.google.com/github/2303a51849/AI-ML/blob/main/Assignment-1(part-2).ipynb\" target=\"_parent\"><img src=\"https://colab.research.google.com/assets/colab-badge.svg\" alt=\"Open In Colab\"/></a>"
      ]
    },
    {
      "cell_type": "code",
      "execution_count": 1,
      "metadata": {
        "colab": {
          "base_uri": "https://localhost:8080/"
        },
        "id": "aGXmrluhXsF7",
        "outputId": "efeda97a-8c30-46d6-881f-b38ef88028cf"
      },
      "outputs": [
        {
          "output_type": "stream",
          "name": "stdout",
          "text": [
            "0    1\n",
            "1    2\n",
            "2    3\n",
            "3    4\n",
            "dtype: int64\n"
          ]
        }
      ],
      "source": [
        "#Implement Lists using Pandas\n",
        "import pandas as pd\n",
        "lst = [1,2,3,4]\n",
        "arr = pd.Series(lst)\n",
        "print(arr)"
      ]
    },
    {
      "cell_type": "code",
      "source": [
        "#Implement arrays using pandas\n",
        "import pandas as pd\n",
        "arr = [1,2,3,4,5]\n",
        "arrays = pd.array(arr)\n",
        "print(arrays)"
      ],
      "metadata": {
        "id": "_OnJ1ZemXyKz"
      },
      "execution_count": null,
      "outputs": []
    },
    {
      "cell_type": "code",
      "source": [
        "#Identify thier type()\n",
        "import pandas as pd\n",
        "arr = [1,2,3,4,5]\n",
        "arr1 = [0.1, 2.3, 4.6]\n",
        "series = pd.Series(arr)#list in pandas does not have a datatype.\n",
        "series1 = pd.Series(arr1)#Hence must be converted to Series.\n",
        "data_type = series.dtype\n",
        "data_type1 = series1.dtype\n",
        "print(data_type)\n",
        "print(data_type1)"
      ],
      "metadata": {
        "colab": {
          "base_uri": "https://localhost:8080/"
        },
        "id": "QkEDoOaNX8Cq",
        "outputId": "f9bf952b-36e3-47d8-80c0-3b129388d8c8"
      },
      "execution_count": 2,
      "outputs": [
        {
          "output_type": "stream",
          "name": "stdout",
          "text": [
            "int64\n",
            "float64\n"
          ]
        }
      ]
    },
    {
      "cell_type": "code",
      "source": [
        "#Combining texts\n",
        "import pandas as pd\n",
        "text1 = pd.Series([\"Addition of Two: \"])\n",
        "text2 = pd.Series([\"array1 + array2\"])\n",
        "print(text1.str.cat(text2))"
      ],
      "metadata": {
        "colab": {
          "base_uri": "https://localhost:8080/"
        },
        "id": "uJOtpUlDX9oD",
        "outputId": "6befa6a2-d248-4546-9da8-3d1c342caf04"
      },
      "execution_count": 3,
      "outputs": [
        {
          "output_type": "stream",
          "name": "stdout",
          "text": [
            "0    Addition of Two: array1 + array2\n",
            "dtype: object\n"
          ]
        }
      ]
    },
    {
      "cell_type": "code",
      "source": [
        "#implement sin(), log(), log2(), exp() using pandas\n",
        "import pandas as pd\n",
        "import numpy as np #pandas does not have trignometric functions inbuilt\n",
        "a = pd.Series([1,2,3])\n",
        "sin = np.sin(a)\n",
        "print(sin)\n",
        "log = np.log(a)\n",
        "print(log)\n",
        "log2 = np.log2(a)\n",
        "print(log2)\n",
        "exp = np.exp(a)\n",
        "print(exp)"
      ],
      "metadata": {
        "colab": {
          "base_uri": "https://localhost:8080/"
        },
        "id": "KwMuGX9xYBXT",
        "outputId": "e8d3ab68-32e4-450c-b7ab-b7094eef7b51"
      },
      "execution_count": 4,
      "outputs": [
        {
          "output_type": "stream",
          "name": "stdout",
          "text": [
            "0    0.841471\n",
            "1    0.909297\n",
            "2    0.141120\n",
            "dtype: float64\n",
            "0    0.000000\n",
            "1    0.693147\n",
            "2    1.098612\n",
            "dtype: float64\n",
            "0    0.000000\n",
            "1    1.000000\n",
            "2    1.584963\n",
            "dtype: float64\n",
            "0     2.718282\n",
            "1     7.389056\n",
            "2    20.085537\n",
            "dtype: float64\n"
          ]
        }
      ]
    }
  ]
}